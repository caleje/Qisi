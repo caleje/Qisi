{
 "cells": [
  {
   "cell_type": "code",
   "execution_count": 48,
   "metadata": {},
   "outputs": [],
   "source": [
    "# Load the dictionary\n",
    "import csv\n",
    "path = \"../src/main/resources/EnglishCmu/cmudict_SPHINX_40.txt\"\n",
    "\n",
    "class Entry:\n",
    "    def __init__(self, word, phonemes):\n",
    "        self.word = word\n",
    "        self.phonemes = phonemes\n",
    "        \n",
    "    def __str__(self): \n",
    "        return self.word # + \": \" + \" \".join(self.phonemes)\n",
    "    \n",
    "    def __repr__(self):\n",
    "        return \"Entry(\" + self.word + \", [\" + \", \".join(self.phonemes) +\"])\"\n",
    "\n",
    "entries = []\n",
    "with open(path) as f:\n",
    "    reader = csv.reader(f, delimiter=\"\\t\", quoting=csv.QUOTE_NONE)\n",
    "    for row in reader:\n",
    "        entry = Entry(row[0], tuple(row[1].split(\" \")))\n",
    "        entries.append(entry)\n",
    "        \n"
   ]
  },
  {
   "cell_type": "code",
   "execution_count": 49,
   "metadata": {
    "collapsed": true
   },
   "outputs": [],
   "source": [
    "entriesByWord = {entry.word: entry for entry in entries}"
   ]
  },
  {
   "cell_type": "code",
   "execution_count": 59,
   "metadata": {},
   "outputs": [],
   "source": [
    "import itertools\n",
    "sortedEntries = sorted(entries, key = lambda entry: entry.phonemes)\n",
    "groups = itertools.groupby(sortedEntries, key = lambda entry: entry.phonemes)\n",
    "entriesByPhonemes = {phonemes: tuple(group) for phonemes, group in groups}"
   ]
  },
  {
   "cell_type": "code",
   "execution_count": 60,
   "metadata": {},
   "outputs": [
    {
     "data": {
      "text/plain": [
       "Entry(SON, [S, AH, N])"
      ]
     },
     "execution_count": 60,
     "metadata": {},
     "output_type": "execute_result"
    }
   ],
   "source": [
    "entriesByWord[\"SON\"]"
   ]
  },
  {
   "cell_type": "code",
   "execution_count": 61,
   "metadata": {},
   "outputs": [
    {
     "data": {
      "text/plain": [
       "(Entry(SON, [S, AH, N]), Entry(SUN, [S, AH, N]))"
      ]
     },
     "execution_count": 61,
     "metadata": {},
     "output_type": "execute_result"
    }
   ],
   "source": [
    "entriesByPhonemes[(\"S\", \"AH\", \"N\")]"
   ]
  },
  {
   "cell_type": "code",
   "execution_count": null,
   "metadata": {
    "collapsed": true
   },
   "outputs": [],
   "source": []
  }
 ],
 "metadata": {
  "kernelspec": {
   "display_name": "Python 2",
   "language": "python",
   "name": "python2"
  },
  "language_info": {
   "codemirror_mode": {
    "name": "ipython",
    "version": 2
   },
   "file_extension": ".py",
   "mimetype": "text/x-python",
   "name": "python",
   "nbconvert_exporter": "python",
   "pygments_lexer": "ipython2",
   "version": "2.7.12"
  }
 },
 "nbformat": 4,
 "nbformat_minor": 2
}
